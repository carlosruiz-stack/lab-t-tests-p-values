{
 "cells": [
  {
   "cell_type": "code",
   "execution_count": 25,
   "id": "5c61f8f8",
   "metadata": {},
   "outputs": [],
   "source": [
    "import statistics\n",
    "from scipy.stats import t\n",
    "import math"
   ]
  },
  {
   "cell_type": "markdown",
   "id": "ba4d228e",
   "metadata": {},
   "source": [
    "In a packing plant, a machine packs cartons with jars. It is supposed that a new machine will pack faster on the average than the machine currently used. To test that hypothesis, the times it takes each machine to pack ten cartons are recorded. The results, in seconds, are shown in the tables in the file files_for_lab/machine.txt. Assume that there is sufficient evidence to conduct the t test, does the data provide sufficient evidence to show if one machine is better than the other"
   ]
  },
  {
   "cell_type": "code",
   "execution_count": null,
   "id": "3bc76487",
   "metadata": {},
   "outputs": [],
   "source": []
  },
  {
   "cell_type": "markdown",
   "id": "af386f33",
   "metadata": {},
   "source": [
    "The null hypothesis is that the average packing time of the new machine is equal to the average packing time of the old machine."
   ]
  },
  {
   "cell_type": "markdown",
   "id": "cf5819b0",
   "metadata": {},
   "source": [
    "The alternative hypothesis is that the new machine is, on average, faster than the old one for the packaging of the 10 cartons"
   ]
  },
  {
   "cell_type": "markdown",
   "id": "a68f1331",
   "metadata": {},
   "source": [
    "We have the following dataset, that provides the packing times for both machines to pack 10 cartons: "
   ]
  },
  {
   "cell_type": "markdown",
   "id": "df556ef0",
   "metadata": {},
   "source": [
    "New machine\t Old machine\n",
    "42.1\t        42.7\n",
    "41\t        43.6\n",
    "41.3\t        43.8\n",
    "41.8\t        43.3\n",
    "42.4\t        42.5\n",
    "42.8\t        43.5\n",
    "43.2\t        43.1\n",
    "42.3\t        41.7\n",
    "41.8\t        44\n",
    "42.7\t        44.1"
   ]
  },
  {
   "cell_type": "markdown",
   "id": "f74fbc3f",
   "metadata": {},
   "source": [
    "we are comparing the pairs of observations (new machine vs old machine), for which we need to calculate the difference of the mean"
   ]
  },
  {
   "cell_type": "code",
   "execution_count": 13,
   "id": "ee0b228a",
   "metadata": {},
   "outputs": [],
   "source": [
    "We adapt the dataset accordingly to calculate the differences with pandas code"
   ]
  },
  {
   "cell_type": "code",
   "execution_count": 14,
   "id": "ec2f5d7f",
   "metadata": {},
   "outputs": [
    {
     "name": "stdout",
     "output_type": "stream",
     "text": [
      "Pair differences: [-0.6, -2.6, -2.5, -1.5, -0.1, -0.7, 0.1, 0.6, -2.2, -1.4]\n"
     ]
    }
   ],
   "source": [
    "new_machine = [42.1, 41, 41.3, 41.8, 42.4, 42.8, 43.2, 42.3, 41.8, 42.7]\n",
    "old_machine = [42.7, 43.6, 43.8, 43.3, 42.5, 43.5, 43.1, 41.7, 44, 44.1]\n",
    "\n",
    "pair_differences = [round(new - old, 4) for new, old in zip(new_machine, old_machine)]\n",
    "print(\"Pair differences:\", pair_differences)"
   ]
  },
  {
   "cell_type": "markdown",
   "id": "944372df",
   "metadata": {},
   "source": [
    "We then calculate the mean for the pair differences dataset"
   ]
  },
  {
   "cell_type": "code",
   "execution_count": 17,
   "id": "dd8ff84f",
   "metadata": {},
   "outputs": [
    {
     "name": "stdout",
     "output_type": "stream",
     "text": [
      "Mean: -1.09\n"
     ]
    }
   ],
   "source": [
    "mean = statistics.mean(pair_differences)\n",
    "print(\"Mean:\", round(mean, 4))"
   ]
  },
  {
   "cell_type": "markdown",
   "id": "5307ee56",
   "metadata": {},
   "source": [
    "Now, we calculate the std dev. for the difference of the mean"
   ]
  },
  {
   "cell_type": "code",
   "execution_count": 19,
   "id": "1baa8245",
   "metadata": {},
   "outputs": [
    {
     "name": "stdout",
     "output_type": "stream",
     "text": [
      "Standard Deviation: 1.1259\n"
     ]
    }
   ],
   "source": [
    "standard_deviation = statistics.stdev(pair_differences)\n",
    "print(\"Standard Deviation:\", round(standard_deviation, 4))"
   ]
  },
  {
   "cell_type": "markdown",
   "id": "6fd96ad4",
   "metadata": {},
   "source": [
    "We now calculate the test statistic (t-value) using the formula:\n",
    "t = (x̄ - μ) / (s / √n)\n",
    "where x̄ is the sample mean of differences\n",
    "μ is the hypothesized difference (0 for a one-sample t-test)\n",
    "s is the sample standard deviation of differences, \n",
    "and n is the sample size"
   ]
  },
  {
   "cell_type": "code",
   "execution_count": 24,
   "id": "5c48e78d",
   "metadata": {},
   "outputs": [
    {
     "name": "stdout",
     "output_type": "stream",
     "text": [
      "-2.51413759998799\n"
     ]
    }
   ],
   "source": [
    "sample_mean = -1.09\n",
    "sample_stdev = 1.371\n",
    "sample_size = 10\n",
    "\n",
    "t = (sample_mean)/(sample_stdev/math.sqrt(sample_size))\n",
    "print(t)"
   ]
  },
  {
   "cell_type": "markdown",
   "id": "62abdfad",
   "metadata": {},
   "source": [
    "we search for the t-value using the corresponding function: "
   ]
  },
  {
   "cell_type": "code",
   "execution_count": 26,
   "id": "9df00132",
   "metadata": {},
   "outputs": [
    {
     "name": "stdout",
     "output_type": "stream",
     "text": [
      "t-value: 1.833\n"
     ]
    }
   ],
   "source": [
    "significance_level = 0.05\n",
    "degrees_of_freedom = 9\n",
    "\n",
    "t_value = t.ppf(1 - significance_level, degrees_of_freedom)\n",
    "print(\"t-value:\", round(t_value, 3))"
   ]
  },
  {
   "cell_type": "markdown",
   "id": "9f762947",
   "metadata": {},
   "source": [
    "Since the t-statistical is smaller than the t-value obtained, we keep the null hypothesis, which means that, on average, the packaging time for the 10 cartons does not necessarily improve with the new machine"
   ]
  },
  {
   "cell_type": "code",
   "execution_count": null,
   "id": "4feb17e2",
   "metadata": {},
   "outputs": [],
   "source": []
  }
 ],
 "metadata": {
  "kernelspec": {
   "display_name": "Python 3 (ipykernel)",
   "language": "python",
   "name": "python3"
  },
  "language_info": {
   "codemirror_mode": {
    "name": "ipython",
    "version": 3
   },
   "file_extension": ".py",
   "mimetype": "text/x-python",
   "name": "python",
   "nbconvert_exporter": "python",
   "pygments_lexer": "ipython3",
   "version": "3.9.13"
  }
 },
 "nbformat": 4,
 "nbformat_minor": 5
}
